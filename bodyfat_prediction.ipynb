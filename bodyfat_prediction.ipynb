{
  "nbformat": 4,
  "nbformat_minor": 0,
  "metadata": {
    "colab": {
      "provenance": []
    },
    "kernelspec": {
      "name": "python3",
      "display_name": "Python 3"
    },
    "language_info": {
      "name": "python"
    }
  },
  "cells": [
    {
      "cell_type": "code",
      "execution_count": 1,
      "metadata": {
        "colab": {
          "base_uri": "https://localhost:8080/"
        },
        "id": "YQos24dP3vzZ",
        "outputId": "e899e81f-71d6-4a55-bdae-b0222fac19a3"
      },
      "outputs": [
        {
          "output_type": "stream",
          "name": "stdout",
          "text": [
            "Mounted at /content/drive\n"
          ]
        }
      ],
      "source": [
        "from google.colab import drive\n",
        "drive.mount('/content/drive')\n"
      ]
    },
    {
      "cell_type": "code",
      "source": [
        "model_path = '/content/drive/My Drive/body_fat_model.pkl'\n",
        "scaler_path = '/content/drive/My Drive/scaler.pkl'\n"
      ],
      "metadata": {
        "id": "eSAutZH136Jd"
      },
      "execution_count": 2,
      "outputs": []
    },
    {
      "cell_type": "code",
      "source": [
        "import joblib\n",
        "\n",
        "# Load the trained model\n",
        "model = joblib.load(model_path)\n",
        "\n",
        "# Load the scaler\n",
        "scaler = joblib.load(scaler_path)\n"
      ],
      "metadata": {
        "id": "2JLwqOYD39AM"
      },
      "execution_count": 3,
      "outputs": []
    },
    {
      "cell_type": "code",
      "source": [
        "import pandas as pd\n",
        "new_data = pd.DataFrame({\n",
        "    'Density': [1.0500],\n",
        "    'Age': [25],\n",
        "    'Weight': [175.00],\n",
        "    'Height': [70.00],\n",
        "    'Neck': [35.0],\n",
        "    'Chest': [95.0],\n",
        "    'Abdomen': [88.0],\n",
        "    'Hip': [100.0],\n",
        "    'Thigh': [60.0],\n",
        "    'Knee': [38.0],\n",
        "    'Ankle': [23.0],\n",
        "    'Biceps': [31.0],\n",
        "    'Forearm': [27.0],\n",
        "    'Wrist': [17.5],\n",
        "    'BMI': [24.0]\n",
        "})\n",
        "\n",
        "# Preprocess the new data\n",
        "def preprocess_data(data):\n",
        "    return scaler.transform(data)\n",
        "\n",
        "new_data_scaled = preprocess_data(new_data)\n"
      ],
      "metadata": {
        "id": "wdqHVutS4KQ_"
      },
      "execution_count": 5,
      "outputs": []
    },
    {
      "cell_type": "code",
      "source": [
        "# Make predictions\n",
        "predictions = model.predict(new_data_scaled)\n",
        "print(f\"Predicted Body Fat Percentage: {predictions[0]:.2f}%\")\n"
      ],
      "metadata": {
        "colab": {
          "base_uri": "https://localhost:8080/"
        },
        "id": "RcYS0N7b4Pks",
        "outputId": "686d3624-6b5f-470f-b53c-d60dfdf0727e"
      },
      "execution_count": 6,
      "outputs": [
        {
          "output_type": "stream",
          "name": "stdout",
          "text": [
            "Predicted Body Fat Percentage: 21.46%\n"
          ]
        }
      ]
    }
  ]
}